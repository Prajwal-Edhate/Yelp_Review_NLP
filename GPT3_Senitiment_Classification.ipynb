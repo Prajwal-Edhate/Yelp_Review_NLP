{
 "cells": [
  {
   "cell_type": "code",
   "execution_count": 3,
   "id": "8fcd9893",
   "metadata": {},
   "outputs": [],
   "source": [
    "import json\n",
    "import os\n",
    "import torch"
   ]
  },
  {
   "cell_type": "code",
   "execution_count": 4,
   "id": "75dcf7a9",
   "metadata": {},
   "outputs": [],
   "source": [
    "from transformers import GPT2Tokenizer, GPT2ForSequenceClassification, TextDataset, DataCollatorForLanguageModeling, Trainer, TrainingArguments"
   ]
  },
  {
   "cell_type": "code",
   "execution_count": 27,
   "id": "9a898d10",
   "metadata": {},
   "outputs": [
    {
     "name": "stderr",
     "output_type": "stream",
     "text": [
      "[nltk_data] Downloading package punkt to\n",
      "[nltk_data]     C:\\Users\\hp\\AppData\\Roaming\\nltk_data...\n",
      "[nltk_data]   Unzipping tokenizers\\punkt.zip.\n"
     ]
    },
    {
     "data": {
      "text/plain": [
       "True"
      ]
     },
     "execution_count": 27,
     "metadata": {},
     "output_type": "execute_result"
    }
   ],
   "source": [
    "import nltk\n",
    "from nltk.tokenize import word_tokenize\n",
    "nltk.download('punkt')"
   ]
  },
  {
   "cell_type": "code",
   "execution_count": 8,
   "id": "e65357fb",
   "metadata": {},
   "outputs": [],
   "source": [
    "# Load Yelp review data from the json file"
   ]
  },
  {
   "cell_type": "code",
   "execution_count": 15,
   "id": "2290a454",
   "metadata": {},
   "outputs": [],
   "source": [
    "import pandas as pd"
   ]
  },
  {
   "cell_type": "code",
   "execution_count": 17,
   "id": "a88a5f39",
   "metadata": {},
   "outputs": [],
   "source": [
    "json_file_path = 'data/yelp_academic_dataset_review.json'\n",
    "\n",
    "with open(json_file_path, 'rb') as file:\n",
    "    data = []\n",
    "    for line in file:\n",
    "        decoded_line = line.decode('utf-8', errors='ignore')\n",
    "        data.append(json.loads(decoded_line))\n",
    "\n",
    "checkin_df = pd.DataFrame(data)"
   ]
  },
  {
   "cell_type": "code",
   "execution_count": 18,
   "id": "e452b294",
   "metadata": {},
   "outputs": [
    {
     "data": {
      "text/plain": [
       "Index(['review_id', 'user_id', 'business_id', 'stars', 'useful', 'funny',\n",
       "       'cool', 'text', 'date'],\n",
       "      dtype='object')"
      ]
     },
     "execution_count": 18,
     "metadata": {},
     "output_type": "execute_result"
    }
   ],
   "source": [
    "checkin_df.keys()"
   ]
  },
  {
   "cell_type": "code",
   "execution_count": 30,
   "id": "5c8b71cd",
   "metadata": {},
   "outputs": [],
   "source": [
    "text0 = checkin_df['text'][1]"
   ]
  },
  {
   "cell_type": "code",
   "execution_count": 43,
   "id": "662f3869",
   "metadata": {},
   "outputs": [],
   "source": [
    "def tokenizeGPT2(text_array):\n",
    "    # Initialize the GPT-3 tokenizer\n",
    "    tokenizer = GPT2Tokenizer.from_pretrained(\"gpt2\")\n",
    "    tokenizer.pad_token = tokenizer.eos_token  # Set padding token to EOS token\n",
    "    # Tokenize\n",
    "    encoded_input = tokenizer(text_array, padding = True, truncation = True, return_tensors=\"pt\")\n",
    "    return encoded_input"
   ]
  },
  {
   "cell_type": "code",
   "execution_count": 41,
   "id": "fabd0010",
   "metadata": {},
   "outputs": [],
   "source": [
    "text_list = checkin_df['text'][:].tolist()"
   ]
  },
  {
   "cell_type": "code",
   "execution_count": null,
   "id": "6a776630",
   "metadata": {},
   "outputs": [],
   "source": [
    "encoded_text_list = tokenizeGPT2(text_list)"
   ]
  },
  {
   "cell_type": "code",
   "execution_count": null,
   "id": "81973692",
   "metadata": {},
   "outputs": [],
   "source": []
  }
 ],
 "metadata": {
  "kernelspec": {
   "display_name": "Python 3 (ipykernel)",
   "language": "python",
   "name": "python3"
  },
  "language_info": {
   "codemirror_mode": {
    "name": "ipython",
    "version": 3
   },
   "file_extension": ".py",
   "mimetype": "text/x-python",
   "name": "python",
   "nbconvert_exporter": "python",
   "pygments_lexer": "ipython3",
   "version": "3.8.18"
  }
 },
 "nbformat": 4,
 "nbformat_minor": 5
}
